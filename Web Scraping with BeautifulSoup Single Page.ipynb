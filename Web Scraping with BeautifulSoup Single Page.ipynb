{
 "cells": [
  {
   "cell_type": "markdown",
   "metadata": {},
   "source": [
    "### Introduction\n",
    "Web scraping justia.com using Python and BeautifulSoup. The goal is to obtain lawyers info from New Jersey, that is the name, short bio, specialization, university attended, address, phone and email address from the first page and store the data in a .csv file"
   ]
  },
  {
   "cell_type": "markdown",
   "metadata": {},
   "source": [
    "#### Imports"
   ]
  },
  {
   "cell_type": "code",
   "execution_count": 1,
   "metadata": {},
   "outputs": [],
   "source": [
    "#load libraries\n",
    "from bs4 import BeautifulSoup\n",
    "import requests\n",
    "import time\n",
    "import pandas as pd"
   ]
  },
  {
   "cell_type": "code",
   "execution_count": 2,
   "metadata": {},
   "outputs": [
    {
     "data": {
      "text/plain": [
       "<Response [200]>"
      ]
     },
     "execution_count": 2,
     "metadata": {},
     "output_type": "execute_result"
    }
   ],
   "source": [
    "#header\n",
    "headers={'User-Agent':'Mozilla/5.0 (Windows NT 10.0; Win64; x64) AppleWebKit/537.36 (KHTML, like Gecko) Chrome/106.0.0.0 Safari/537.36'}\n",
    "#get url\n",
    "website='https://www.justia.com/lawyers/new-jersey'\n",
    "#get request\n",
    "response=requests.get(website, headers=headers)\n",
    "#status code\n",
    "response"
   ]
  },
  {
   "cell_type": "code",
   "execution_count": 3,
   "metadata": {},
   "outputs": [],
   "source": [
    "#soup object\n",
    "soup=BeautifulSoup(response.content, 'html.parser')"
   ]
  },
  {
   "cell_type": "code",
   "execution_count": 4,
   "metadata": {},
   "outputs": [
    {
     "data": {
      "text/plain": [
       "40"
      ]
     },
     "execution_count": 4,
     "metadata": {},
     "output_type": "execute_result"
    }
   ],
   "source": [
    "#Results\n",
    "results=soup.find_all('div',{'data-vars-action':'OrganicListing'})\n",
    "len(results)"
   ]
  },
  {
   "cell_type": "code",
   "execution_count": 5,
   "metadata": {},
   "outputs": [
    {
     "data": {
      "text/html": [
       "<div>\n",
       "<style scoped>\n",
       "    .dataframe tbody tr th:only-of-type {\n",
       "        vertical-align: middle;\n",
       "    }\n",
       "\n",
       "    .dataframe tbody tr th {\n",
       "        vertical-align: top;\n",
       "    }\n",
       "\n",
       "    .dataframe thead th {\n",
       "        text-align: right;\n",
       "    }\n",
       "</style>\n",
       "<table border=\"1\" class=\"dataframe\">\n",
       "  <thead>\n",
       "    <tr style=\"text-align: right;\">\n",
       "      <th></th>\n",
       "      <th>Lawyer_name</th>\n",
       "      <th>Bio</th>\n",
       "      <th>Specialization</th>\n",
       "      <th>University</th>\n",
       "      <th>Address</th>\n",
       "      <th>Phone</th>\n",
       "      <th>Email</th>\n",
       "    </tr>\n",
       "  </thead>\n",
       "  <tbody>\n",
       "    <tr>\n",
       "      <th>0</th>\n",
       "      <td>Raymond  Lahoud</td>\n",
       "      <td>Bridgewater, NJ Lawyer with 12 years of experi...</td>\n",
       "      <td>Immigration</td>\n",
       "      <td>Georgetown University Law Center</td>\n",
       "      <td>400 Crossing Blvd.8th FloorBridgewater,NJ 08807</td>\n",
       "      <td>(888) 440-4872</td>\n",
       "      <td>https://lawyers.justia.com/lawyer/raymond-laho...</td>\n",
       "    </tr>\n",
       "    <tr>\n",
       "      <th>1</th>\n",
       "      <td>Jonathan D. Marx</td>\n",
       "      <td>Marlton, NJ Attorney with 36 years of experience</td>\n",
       "      <td>Personal Injury</td>\n",
       "      <td>Brooklyn Law School</td>\n",
       "      <td>10000 Lincoln Dr ESuite #201Marlton,NJ 08053</td>\n",
       "      <td>(856) 671-1529</td>\n",
       "      <td>https://lawyers.justia.com/lawyer/jonathan-d-m...</td>\n",
       "    </tr>\n",
       "    <tr>\n",
       "      <th>2</th>\n",
       "      <td>Emmanuel Coffy</td>\n",
       "      <td>10.0  (1 Peer Review)</td>\n",
       "      <td>IP</td>\n",
       "      <td>Seton Hall University School of Law</td>\n",
       "      <td>515 Valley StreetSuite 1Maplewood,NJ 07040</td>\n",
       "      <td>(800) 576-4320</td>\n",
       "      <td>https://lawyers.justia.com/lawyer/emmanuel-cof...</td>\n",
       "    </tr>\n",
       "    <tr>\n",
       "      <th>3</th>\n",
       "      <td>Jason Seidman</td>\n",
       "      <td>Toms River, NJ Attorney with 12 years of exper...</td>\n",
       "      <td>Criminal, DWI, Juvenile and Traffic Tickets</td>\n",
       "      <td>University of the District of Columbia and Laf...</td>\n",
       "      <td>10 Allen St #2DToms River,NJ 08753</td>\n",
       "      <td>(732) 279-7649</td>\n",
       "      <td>https://lawyers.justia.com/lawyer/jason-seidma...</td>\n",
       "    </tr>\n",
       "    <tr>\n",
       "      <th>4</th>\n",
       "      <td>Matthew J Hartnett</td>\n",
       "      <td>Collingswood, NJ Lawyer</td>\n",
       "      <td>Immigration</td>\n",
       "      <td>Rutgers School of Law-Camden</td>\n",
       "      <td>1007 Haddon AvenueCollingswood,NJ 08108</td>\n",
       "      <td>(215) 437-0264</td>\n",
       "      <td>https://lawyers.justia.com/lawyer/matthew-j-ha...</td>\n",
       "    </tr>\n",
       "  </tbody>\n",
       "</table>\n",
       "</div>"
      ],
      "text/plain": [
       "          Lawyer_name                                                Bio  \\\n",
       "0     Raymond  Lahoud  Bridgewater, NJ Lawyer with 12 years of experi...   \n",
       "1    Jonathan D. Marx   Marlton, NJ Attorney with 36 years of experience   \n",
       "2      Emmanuel Coffy                              10.0  (1 Peer Review)   \n",
       "3       Jason Seidman  Toms River, NJ Attorney with 12 years of exper...   \n",
       "4  Matthew J Hartnett                            Collingswood, NJ Lawyer   \n",
       "\n",
       "                                Specialization  \\\n",
       "0                                  Immigration   \n",
       "1                              Personal Injury   \n",
       "2                                           IP   \n",
       "3  Criminal, DWI, Juvenile and Traffic Tickets   \n",
       "4                                  Immigration   \n",
       "\n",
       "                                          University  \\\n",
       "0                   Georgetown University Law Center   \n",
       "1                                Brooklyn Law School   \n",
       "2                Seton Hall University School of Law   \n",
       "3  University of the District of Columbia and Laf...   \n",
       "4                       Rutgers School of Law-Camden   \n",
       "\n",
       "                                           Address           Phone  \\\n",
       "0  400 Crossing Blvd.8th FloorBridgewater,NJ 08807  (888) 440-4872   \n",
       "1     10000 Lincoln Dr ESuite #201Marlton,NJ 08053  (856) 671-1529   \n",
       "2       515 Valley StreetSuite 1Maplewood,NJ 07040  (800) 576-4320   \n",
       "3               10 Allen St #2DToms River,NJ 08753  (732) 279-7649   \n",
       "4          1007 Haddon AvenueCollingswood,NJ 08108  (215) 437-0264   \n",
       "\n",
       "                                               Email  \n",
       "0  https://lawyers.justia.com/lawyer/raymond-laho...  \n",
       "1  https://lawyers.justia.com/lawyer/jonathan-d-m...  \n",
       "2  https://lawyers.justia.com/lawyer/emmanuel-cof...  \n",
       "3  https://lawyers.justia.com/lawyer/jason-seidma...  \n",
       "4  https://lawyers.justia.com/lawyer/matthew-j-ha...  "
      ]
     },
     "execution_count": 5,
     "metadata": {},
     "output_type": "execute_result"
    }
   ],
   "source": [
    "#create empty lists for the target data\n",
    "name=[]\n",
    "bio=[]\n",
    "specialization=[]\n",
    "university=[]\n",
    "address=[]\n",
    "phone=[]\n",
    "email=[]\n",
    "#loop through the results and append the data to the list\n",
    "for result in results:\n",
    "    #name\n",
    "    try:\n",
    "        name.append(result.find('strong',{'class':'lawyer-name'}).get_text().strip())\n",
    "    except:\n",
    "        name.append('')\n",
    "    #bio\n",
    "    try:\n",
    "        bio.append(result.find('div', {'class':'lawyer-expl'}).get_text().strip())\n",
    "    except:\n",
    "        bio.append('')\n",
    "    #specialization\n",
    "    try:\n",
    "        specialization.append(result.find('span', {'class': '-practices'}).get_text())\n",
    "    except:\n",
    "        specialization.append('')\n",
    "    #university\n",
    "    try:\n",
    "        university.append(result.find('span', {'class':'-law-schools'}).get_text())\n",
    "    except:\n",
    "        university.append('')\n",
    "    #address\n",
    "    try:\n",
    "        address.append(result.find('span', {'class':'-address'}).get_text().strip().replace('\\t','').replace('\\n',''))\n",
    "    except:\n",
    "        address.append('')\n",
    "    #phone\n",
    "    try:\n",
    "        phone.append(result.find('strong',{'class':'-phone'}).get_text().strip())\n",
    "    except:\n",
    "        phone.append('')\n",
    "    #email\n",
    "    try:\n",
    "        email.append(result.find('a', {'class':'-email'}).get('href'))\n",
    "    except:\n",
    "        email.append('')\n",
    "#create a Pandas dataframe to store the output\n",
    "df=pd.DataFrame({'Lawyer_name':name,'Bio':bio,'Specialization':specialization,'University':university,'Address': address,\n",
    "                 'Phone':phone,'Email':email})\n",
    "df.head()"
   ]
  },
  {
   "cell_type": "code",
   "execution_count": 6,
   "metadata": {},
   "outputs": [],
   "source": [
    "# store output in a .csv file\n",
    "df.to_csv('nj_lawyers.csv', index=False)"
   ]
  },
  {
   "cell_type": "code",
   "execution_count": null,
   "metadata": {},
   "outputs": [],
   "source": []
  }
 ],
 "metadata": {
  "kernelspec": {
   "display_name": "Python 3",
   "language": "python",
   "name": "python3"
  },
  "language_info": {
   "codemirror_mode": {
    "name": "ipython",
    "version": 3
   },
   "file_extension": ".py",
   "mimetype": "text/x-python",
   "name": "python",
   "nbconvert_exporter": "python",
   "pygments_lexer": "ipython3",
   "version": "3.8.3"
  }
 },
 "nbformat": 4,
 "nbformat_minor": 4
}
